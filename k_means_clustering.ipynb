{
  "nbformat": 4,
  "nbformat_minor": 0,
  "metadata": {
    "colab": {
      "name": "k-means-clustering.ipynb",
      "provenance": [],
      "collapsed_sections": [],
      "authorship_tag": "ABX9TyNTrEIzUcrNzKzIXhKLdTmc",
      "include_colab_link": true
    },
    "kernelspec": {
      "name": "python3",
      "display_name": "Python 3"
    }
  },
  "cells": [
    {
      "cell_type": "markdown",
      "metadata": {
        "id": "view-in-github",
        "colab_type": "text"
      },
      "source": [
        "<a href=\"https://colab.research.google.com/github/minhkstn/BasicMachineLearning/blob/master/k_means_clustering.ipynb\" target=\"_parent\"><img src=\"https://colab.research.google.com/assets/colab-badge.svg\" alt=\"Open In Colab\"/></a>"
      ]
    },
    {
      "cell_type": "code",
      "metadata": {
        "id": "f0B8S6_3EQH2"
      },
      "source": [
        "from __future__ import print_function\n",
        "import numpy as np\n",
        "import matplotlib.pyplot as plt\n",
        "from scipy.spatial.distance import cdist\n",
        "import random\n",
        "np.random.seed(18) # a number (or vector) used to initialize a pseudorandom number generator."
      ],
      "execution_count": 33,
      "outputs": []
    },
    {
      "cell_type": "code",
      "metadata": {
        "id": "oNvoLQhsFHOa"
      },
      "source": [
        "means = [[2, 2], [8, 3], [3, 6]] # phan phoi chuan va ky vong\n",
        "cov = [[1, 0], [0, 1]] # ma tran hiep phuong sai\n",
        "N = 500"
      ],
      "execution_count": 34,
      "outputs": []
    },
    {
      "cell_type": "code",
      "metadata": {
        "id": "zq86-nVDFk1a"
      },
      "source": [
        "X0 = np.random.multivariate_normal(means[0], cov, N)\n",
        "X1 = np.random.multivariate_normal(means[1], cov, N)\n",
        "X2 = np.random.multivariate_normal(means[2], cov, N)"
      ],
      "execution_count": 35,
      "outputs": []
    },
    {
      "cell_type": "code",
      "metadata": {
        "id": "YbiEZxW6F9ux"
      },
      "source": [
        "print(X0)"
      ],
      "execution_count": null,
      "outputs": []
    },
    {
      "cell_type": "code",
      "metadata": {
        "id": "6XijpG9oGAm3"
      },
      "source": [
        "X = np.concatenate((X0, X1, X2), axis = 0)\n",
        "K = 3 # 3 clusters\n",
        "original_label = np.asarray([0]*N + [1]*N + [2]*N).T # ????"
      ],
      "execution_count": 37,
      "outputs": []
    },
    {
      "cell_type": "code",
      "metadata": {
        "id": "uIjeHfeWGcea"
      },
      "source": [
        "# Khoi tao cac centroids ban dau\n",
        "def kmeans_init_centroids(X, k):\n",
        "  return X[np.random.choice(X.shape[0], k, replace=False)]"
      ],
      "execution_count": 38,
      "outputs": []
    },
    {
      "cell_type": "code",
      "metadata": {
        "id": "MVt9r-zBGtsY"
      },
      "source": [
        "# Tim label moi cho cac diem khi co dinh cac centroid\n",
        "def kmeans_assign_labels(X, centroids):\n",
        "  # Tinh distance\n",
        "  D = cdist(X, centroids)\n",
        "  # Return index of the closest centroid\n",
        "  return np.argmin(D, axis=1)"
      ],
      "execution_count": 39,
      "outputs": []
    },
    {
      "cell_type": "code",
      "metadata": {
        "id": "wOlb0kUVHKra"
      },
      "source": [
        "# Kiem tra dieu kien dung cua thuat toan\n",
        "def has_converged(centroids, new_centroids):\n",
        "  # return True if 2 sets of centroids are the same\n",
        "  return (set([tuple(a) for a in centroids]) ==\n",
        "          set([tuple(a) for a in new_centroids]))"
      ],
      "execution_count": 40,
      "outputs": []
    },
    {
      "cell_type": "code",
      "metadata": {
        "id": "CXzhi8QVHpGO"
      },
      "source": [
        "# Cap nhat centroids khi biet label cua moi diem data\n",
        "def kmeans_update_centroids(X, labels, K):\n",
        "  centroids = np.zeros ((K, X.shape[1]))\n",
        "  for k in range(K):\n",
        "    # collect all points that are assigned to the k-th cluster\n",
        "    Xk = X[labels == k, :]\n",
        "    centroids[k,:] = np.mean(Xk, axis = 0) # then take average\n",
        "  return centroids"
      ],
      "execution_count": 41,
      "outputs": []
    },
    {
      "cell_type": "code",
      "metadata": {
        "id": "rORhC2OzI0zR"
      },
      "source": [
        "def kmeans(X, K):\n",
        "  centroids = [kmeans_init_centroids(X, K)]\n",
        "  labels = []\n",
        "  it = 0\n",
        "  while True:\n",
        "    labels.append(kmeans_assign_labels(X, centroids[-1]))\n",
        "    new_centroids = kmeans_update_centroids(X, labels[-1], K)\n",
        "    if has_converged(centroids[-1], new_centroids):\n",
        "      break\n",
        "    centroids.append(new_centroids)\n",
        "    it += 1\n",
        "  return (centroids, labels, it)"
      ],
      "execution_count": 42,
      "outputs": []
    },
    {
      "cell_type": "code",
      "metadata": {
        "id": "cin34DrNLCvf"
      },
      "source": [
        "def kmeans_display(X, labels):\n",
        "  "
      ],
      "execution_count": null,
      "outputs": []
    },
    {
      "cell_type": "code",
      "metadata": {
        "colab": {
          "base_uri": "https://localhost:8080/"
        },
        "id": "8uJBPSOYJqIm",
        "outputId": "5f204455-707c-442c-e7d8-3c7dad58635a"
      },
      "source": [
        "(centroids, labels, it) = kmeans(X, K)\n",
        "print('Centers found by our algorithm:\\n', centroids[-1])\n",
        "kmeans_display(X, labels[-1])"
      ],
      "execution_count": 43,
      "outputs": [
        {
          "output_type": "stream",
          "text": [
            "Centers found by our algorithm:\n",
            " [[3.02702878 5.95686115]\n",
            " [8.07476866 3.01494931]\n",
            " [1.9834967  1.96588127]]\n"
          ],
          "name": "stdout"
        }
      ]
    }
  ]
}